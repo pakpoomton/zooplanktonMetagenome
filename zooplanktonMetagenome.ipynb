{
 "cells": [
  {
   "cell_type": "markdown",
   "metadata": {},
   "source": [
    "This python notebook semi-automates the process of converting raw metagenomic pair-end sequencing data (.fastq.gz) to OTU & taxonomic table (.biom) and phylogenetic tree (.tre). The OTU & taxonomic table and phylogenetic tree files can then be used for diversity analysis such as making bar chart and PCoA. "
   ]
  },
  {
   "cell_type": "markdown",
   "metadata": {},
   "source": [
    "Reference documentation\n",
    "Based on tutorial http://qiime.org/install/install.html https://nbviewer.jupyter.org/github/biocore/qiime/blob/1.9.1/examples/ipynb/illumina_overview_tutorial.ipynb"
   ]
  },
  {
   "cell_type": "code",
   "execution_count": 1,
   "metadata": {
    "collapsed": true
   },
   "outputs": [],
   "source": [
    "# name a working root folder for metagenomic analysis\n",
    "folderName = 'zooplankton'"
   ]
  },
  {
   "cell_type": "code",
   "execution_count": null,
   "metadata": {
    "collapsed": true
   },
   "outputs": [],
   "source": [
    "# import relevant python library\n",
    "import os"
   ]
  },
  {
   "cell_type": "code",
   "execution_count": 10,
   "metadata": {
    "collapsed": false
   },
   "outputs": [],
   "source": [
    "# go to working directory\n",
    "os.chdir('/Users/pakpoomton/qiime/'+ folderName)"
   ]
  },
  {
   "cell_type": "markdown",
   "metadata": {
    "collapsed": false
   },
   "source": [
    "** manually** Unpack compressed raw data files (.fastq.gz) to raw data file (.fastq) \n",
    "Macrogen sequencing service provides you with one \".fastq.gz\" file per one sample you sent.\n",
    "(For HN00126595 sequencing round, we have 18 .fastq.gz files from 9 zooplankton samples x 2 reads (fwd and rwd))"
   ]
  },
  {
   "cell_type": "markdown",
   "metadata": {},
   "source": [
    "** manually** Rename and organise .fastq file according to \"multiple_join_paired_ends.py\" required format\n",
    "For examples, \n",
    "G1_R1_001.fastq\n",
    "G1_R2_001.fastq\n",
    "G2_R1_002.fastq\n",
    "G2_R2_002.fastq\n",
    "...\n",
    "xx_R1_00n.fastq\n",
    "xx_R2_00n.fastq\n",
    "\n",
    "(For HN00126595 zooplankton, we have 18 .fastq file in total)\n",
    "\n",
    "Put all these files in a folder \"pairRead/\" within our root folder \"zooplankton/\""
   ]
  },
  {
   "cell_type": "code",
   "execution_count": 15,
   "metadata": {
    "collapsed": false
   },
   "outputs": [],
   "source": [
    "# join pair-end sequencing read files (.fastq) to a single file (.fastq)\n",
    "!multiple_join_paired_ends.py -i pairRead/ -o joinedSeq/"
   ]
  },
  {
   "cell_type": "markdown",
   "metadata": {},
   "source": [
    "After executing \"multiple_join_paired_end.py\", a folder \"joinedSeq/\" is created within our root folder \"zooplankton/\". The folder \"joinedSeq/\" has one folder inside for each joined fastq file. \n",
    "\n",
    "(For HN00126595 zooplankton, we have 9 folders in \"joinedSeq\" named after joined fastq files. \n",
    " For examples, G1_R1_001/, G2_R1_002/, ...)\n",
    " \n",
    "In each of these folders inside \"joinedSeq/\", we have three files:\n",
    "fastqjoin.join.fastq, fastqjoin.un1.fastq, fastqjoin.un2.fastq"
   ]
  },
  {
   "cell_type": "markdown",
   "metadata": {},
   "source": [
    "**manually**  Rename \"fastqjoin,join.fastq\" from each folder according to sample name and put them back to our root folder \"zooplankton/\"\n",
    "\n",
    "(For HN00126595 zooplankton, we rename these files to G1.fastq, G2.fastq, ... . \n",
    "All these files are under zooplankton/ folder)"
   ]
  },
  {
   "cell_type": "code",
   "execution_count": 21,
   "metadata": {
    "collapsed": false
   },
   "outputs": [],
   "source": [
    "# filter sequencing results in each .fastq according to their quality and convert to .fna file\n",
    "# ** need to change input-output and parameter names below according to file names \n",
    "# (G1, G2, G3, R1, R2, R3, S1, S2, S3)\n",
    "\n",
    "# input -q determines Phred quality threshold for filtering sequencing read. \n",
    "!split_libraries_fastq.py -i G1.fastq --sample_ids G1 -o sloutG1_single_sample_q20/ -q 19 --barcode_type 'not-barcoded'"
   ]
  },
  {
   "cell_type": "markdown",
   "metadata": {
    "collapsed": false
   },
   "source": [
    "When we execute \"split_libraries_fastq.py\", a new folder \"sloutXX_single_sample_q20/\" is created inside our root directory \"zooplankton/\". Each of these folders has a file \"seqs.fna\" which as a list of joined sequence read without quality info. \n",
    "\n",
    "**Manually** rename \"seqs.fna\" from each folder according to sample name and put back in our root folder \"zooplankton/\"\n",
    "\n",
    "(For HN00126595 zooplankton, we name these .fna files to: seqs_G1.fna, seqs_G2.fna, .... We have 9 files in total\n",
    "from our 9 zooplankton samples.) "
   ]
  },
  {
   "cell_type": "code",
   "execution_count": 6,
   "metadata": {
    "collapsed": false
   },
   "outputs": [],
   "source": [
    "# get OTU and phylogenic data from .fna file collection \n",
    "!pick_open_reference_otus.py -o otus/ -i seqs_G1.fna,seqs_G2.fna,seqs_G3.fna,seqs_R1.fna,seqs_R2.fna,seqs_R3.fna,seqs_S1.fna,seqs_S2.fna,seqs_S3.fna   -p uc_fast_params.txt\n",
    "\n"
   ]
  },
  {
   "cell_type": "markdown",
   "metadata": {},
   "source": [
    "When we execute \"pick_open_reference_otus.py\" using all 9 .fna files as inputs with \"uc_fast_params.txt\" parameter,\n",
    "we create a new folder \"otus/\" inside out root folder \"zooplankton/\"\n",
    "\n",
    "Inside \"otus/\", we have the following files:\n",
    "\n",
    "** OTU & taxonomic table **\n",
    "otu_table_mc2.biom\n",
    "otu_table_mc2_w_tax.biom\n",
    "otu_table_mc2_w_tax_no_pynast_failures.biom   --> use this one\n",
    "\n",
    "** phylogenetic tree **\n",
    "rep_set.tre\n",
    "\n",
    "(There are other files and folders which we don't use for now in our downstream analysis) "
   ]
  },
  {
   "cell_type": "code",
   "execution_count": 8,
   "metadata": {
    "collapsed": false
   },
   "outputs": [
    {
     "name": "stdout",
     "output_type": "stream",
     "text": [
      "Num samples: 9\r\n",
      "Num observations: 3,204\r\n",
      "Total count: 369,288\r\n",
      "Table density (fraction of non-zero values): 0.190\r\n",
      "\r\n",
      "Counts/sample summary:\r\n",
      " Min: 30,937.000\r\n",
      " Max: 49,047.000\r\n",
      " Median: 40,029.000\r\n",
      " Mean: 41,032.000\r\n",
      " Std. dev.: 5,593.843\r\n",
      " Sample Metadata Categories: None provided\r\n",
      " Observation Metadata Categories: taxonomy\r\n",
      "\r\n",
      "Counts/sample detail:\r\n",
      "G3: 30,937.000\r\n",
      "G2: 35,841.000\r\n",
      "G1: 36,598.000\r\n",
      "S2: 39,956.000\r\n",
      "R1: 40,029.000\r\n",
      "R2: 44,301.000\r\n",
      "R3: 45,685.000\r\n",
      "S1: 46,894.000\r\n",
      "S3: 49,047.000\r\n"
     ]
    }
   ],
   "source": [
    "# checking .biom file\n",
    "!biom summarize-table -i otus/otu_table_mc2_w_tax_no_pynast_failures.biom"
   ]
  },
  {
   "cell_type": "code",
   "execution_count": 9,
   "metadata": {
    "collapsed": false
   },
   "outputs": [
    {
     "name": "stdout",
     "output_type": "stream",
     "text": [
      "/Users/pakpoomton/anaconda/envs/qiime1/lib/python2.7/site-packages/matplotlib/collections.py:590: FutureWarning: elementwise comparison failed; returning scalar instead, but in the future will perform elementwise comparison\n",
      "  if self._edgecolors == str('face'):\n",
      "/Users/pakpoomton/anaconda/envs/qiime1/lib/python2.7/site-packages/matplotlib/collections.py:590: FutureWarning: elementwise comparison failed; returning scalar instead, but in the future will perform elementwise comparison\n",
      "  if self._edgecolors == str('face'):\n"
     ]
    }
   ],
   "source": [
    "# diversity analysis using data from .biom and .tre files. \n",
    "!core_diversity_analyses.py -o cdout/ -i otus/otu_table_mc2_w_tax_no_pynast_failures.biom -m zooplankton-map.tsv -t otus/rep_set.tre -e 1114\n"
   ]
  },
  {
   "cell_type": "markdown",
   "metadata": {},
   "source": [
    "After executing \"core_diversity_analyses.py\", a folder \"cdout/\" is created. Inside this folder, a file \"index.html\" is a portal to all analysis results. "
   ]
  },
  {
   "cell_type": "code",
   "execution_count": null,
   "metadata": {
    "collapsed": true
   },
   "outputs": [],
   "source": []
  }
 ],
 "metadata": {
  "kernelspec": {
   "display_name": "Python 3",
   "language": "python",
   "name": "python3"
  },
  "language_info": {
   "codemirror_mode": {
    "name": "ipython",
    "version": 3
   },
   "file_extension": ".py",
   "mimetype": "text/x-python",
   "name": "python",
   "nbconvert_exporter": "python",
   "pygments_lexer": "ipython3",
   "version": "3.6.0"
  }
 },
 "nbformat": 4,
 "nbformat_minor": 2
}
